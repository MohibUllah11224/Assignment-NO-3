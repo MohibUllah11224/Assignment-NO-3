{
 "cells": [
  {
   "cell_type": "code",
   "execution_count": 1,
   "metadata": {},
   "outputs": [],
   "source": [
    "import numpy as np \n",
    "import pandas as pd\n",
    "import matplotlib.pyplot as plt\n",
    "import seaborn as sns"
   ]
  },
  {
   "cell_type": "code",
   "execution_count": 2,
   "metadata": {},
   "outputs": [
    {
     "data": {
      "text/plain": [
       "Index(['Age_band_of_driver', 'Sex_of_driver', 'Educational_level',\n",
       "       'Vehicle_driver_relation', 'Driving_experience', 'Lanes_or_Medians',\n",
       "       'Types_of_Junction', 'Road_surface_type', 'Light_conditions',\n",
       "       'Weather_conditions', 'Type_of_collision', 'Vehicle_movement',\n",
       "       'Pedestrian_movement', 'Cause_of_accident', 'Accident_severity'],\n",
       "      dtype='object')"
      ]
     },
     "execution_count": 2,
     "metadata": {},
     "output_type": "execute_result"
    }
   ],
   "source": [
    "d = pd.read_csv('./cleaned.csv')\n",
    "d.columns"
   ]
  },
  {
   "cell_type": "code",
   "execution_count": 3,
   "metadata": {},
   "outputs": [
    {
     "data": {
      "text/plain": [
       "Age_band_of_driver         0\n",
       "Sex_of_driver              0\n",
       "Educational_level          0\n",
       "Vehicle_driver_relation    0\n",
       "Driving_experience         0\n",
       "Lanes_or_Medians           0\n",
       "Types_of_Junction          0\n",
       "Road_surface_type          0\n",
       "Light_conditions           0\n",
       "Weather_conditions         0\n",
       "Type_of_collision          0\n",
       "Vehicle_movement           0\n",
       "Pedestrian_movement        0\n",
       "Cause_of_accident          0\n",
       "Accident_severity          0\n",
       "dtype: int64"
      ]
     },
     "execution_count": 3,
     "metadata": {},
     "output_type": "execute_result"
    }
   ],
   "source": [
    "d.isna().sum()"
   ]
  },
  {
   "cell_type": "code",
   "execution_count": 4,
   "metadata": {},
   "outputs": [
    {
     "data": {
      "text/plain": [
       "Sex_of_driver\n",
       "Male       11437\n",
       "Female       701\n",
       "Unknown      178\n",
       "Name: count, dtype: int64"
      ]
     },
     "execution_count": 4,
     "metadata": {},
     "output_type": "execute_result"
    }
   ],
   "source": [
    "d.value_counts(\"Sex_of_driver\")"
   ]
  },
  {
   "cell_type": "code",
   "execution_count": 5,
   "metadata": {},
   "outputs": [],
   "source": [
    "d[\"Sex_of_driver\"]= d[\"Sex_of_driver\"].replace(\"Unknown\", np.nan);"
   ]
  },
  {
   "cell_type": "code",
   "execution_count": 6,
   "metadata": {},
   "outputs": [],
   "source": [
    "d.dropna();"
   ]
  },
  {
   "cell_type": "code",
   "execution_count": 7,
   "metadata": {},
   "outputs": [
    {
     "data": {
      "text/plain": [
       "Sex_of_driver\n",
       "Male      11437\n",
       "Female      701\n",
       "Name: count, dtype: int64"
      ]
     },
     "execution_count": 7,
     "metadata": {},
     "output_type": "execute_result"
    }
   ],
   "source": [
    "d.value_counts(\"Sex_of_driver\")"
   ]
  },
  {
   "cell_type": "code",
   "execution_count": 8,
   "metadata": {},
   "outputs": [
    {
     "data": {
      "text/plain": [
       "Age_band_of_driver         object\n",
       "Sex_of_driver              object\n",
       "Educational_level          object\n",
       "Vehicle_driver_relation    object\n",
       "Driving_experience         object\n",
       "Lanes_or_Medians           object\n",
       "Types_of_Junction          object\n",
       "Road_surface_type          object\n",
       "Light_conditions           object\n",
       "Weather_conditions         object\n",
       "Type_of_collision          object\n",
       "Vehicle_movement           object\n",
       "Pedestrian_movement        object\n",
       "Cause_of_accident          object\n",
       "Accident_severity           int64\n",
       "dtype: object"
      ]
     },
     "execution_count": 8,
     "metadata": {},
     "output_type": "execute_result"
    }
   ],
   "source": [
    "d.dtypes"
   ]
  },
  {
   "cell_type": "code",
   "execution_count": 39,
   "metadata": {},
   "outputs": [
    {
     "data": {
      "text/plain": [
       "Sex_of_driver\n",
       "Male      0.942247\n",
       "Female    0.057753\n",
       "Name: proportion, dtype: float64"
      ]
     },
     "execution_count": 39,
     "metadata": {},
     "output_type": "execute_result"
    }
   ],
   "source": [
    "d.value_counts(\"Sex_of_driver\",\"Cause_of_accident\")"
   ]
  }
 ],
 "metadata": {
  "kernelspec": {
   "display_name": "Python 3",
   "language": "python",
   "name": "python3"
  },
  "language_info": {
   "codemirror_mode": {
    "name": "ipython",
    "version": 3
   },
   "file_extension": ".py",
   "mimetype": "text/x-python",
   "name": "python",
   "nbconvert_exporter": "python",
   "pygments_lexer": "ipython3",
   "version": "3.11.1"
  },
  "orig_nbformat": 4
 },
 "nbformat": 4,
 "nbformat_minor": 2
}
